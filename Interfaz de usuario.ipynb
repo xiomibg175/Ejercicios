{
 "cells": [
  {
   "cell_type": "code",
   "execution_count": null,
   "id": "b199bde5",
   "metadata": {},
   "outputs": [],
   "source": [
    "import tkinter as tk\n",
    "from tkinter import messagebox\n",
    "import math\n",
    "\n",
    "def calcular_estadisticas(notas):\n",
    "    try:\n",
    "        notas_float = [float(nota) for nota in notas]\n",
    "        \n",
    "        suma_para_promedio = sum(notas_float[1:])\n",
    "        promedio = suma_para_promedio / len(notas_float)\n",
    "        \n",
    "        suma_para_desviacion = 0\n",
    "        for nota in notas_float:\n",
    "            suma_para_desviacion += (nota - promedio) ** 2\n",
    "        \n",
    "        desviacion = math.sqrt(suma_para_desviacion / len(notas_float))\n",
    "        \n",
    "        mayor = max(notas_float)\n",
    "        menor = min(notas_float)\n",
    "        \n",
    "        return {\n",
    "            \"promedio\": promedio,\n",
    "            \"desviacion\": desviacion,\n",
    "            \"mayor\": mayor,\n",
    "            \"menor\": menor\n",
    "        }\n",
    "    except ValueError:\n",
    "        return None\n",
    "\n",
    "def on_calcular():\n",
    "    entradas = [entry.get() for entry in entries_notas]\n",
    "    \n",
    "    if any(not entrada for entrada in entradas):\n",
    "        messagebox.showerror(\"Error de entrada\", \"Por favor, ingrese todas las cinco notas.\")\n",
    "        return\n",
    "        \n",
    "    resultados = calcular_estadisticas(entradas)\n",
    "    \n",
    "    if resultados is None:\n",
    "        messagebox.showerror(\"Error de entrada\", \"Por favor, ingrese solo números válidos.\")\n",
    "    else:\n",
    "        lbl_promedio.config(text=f\"Promedio = {resultados['promedio']:.2f}\")\n",
    "        lbl_desviacion.config(text=f\"Desviación estándar = {resultados['desviacion']:.2f}\")\n",
    "        lbl_mayor.config(text=f\"Valor mayor = {resultados['mayor']:.1f}\")\n",
    "        lbl_menor.config(text=f\"Valor menor = {resultados['menor']:.1f}\")\n",
    "\n",
    "def on_limpiar():\n",
    "    for entry in entries_notas:\n",
    "        entry.delete(0, tk.END)\n",
    "    \n",
    "    lbl_promedio.config(text=\"Promedio =\")\n",
    "    lbl_desviacion.config(text=\"Desviación estándar =\")\n",
    "    lbl_mayor.config(text=\"Valor mayor =\")\n",
    "    lbl_menor.config(text=\"Valor menor =\")\n",
    "\n",
    "ventana = tk.Tk()\n",
    "ventana.title(\"Notas\")\n",
    "ventana.geometry(\"280x380\")\n",
    "ventana.resizable(False, False)\n",
    "\n",
    "entries_notas = []\n",
    "for i in range(5):\n",
    "    y_pos = 20 + i * 30 \n",
    "    label = tk.Label(ventana, text=f\"Nota {i+1}:\")\n",
    "    label.place(x=20, y=y_pos)\n",
    "    entry = tk.Entry(ventana, width=22)\n",
    "    entry.place(x=105, y=y_pos)\n",
    "    entries_notas.append(entry)\n",
    "\n",
    "btn_calcular = tk.Button(ventana, text=\"Calcular\", width=12, command=on_calcular)\n",
    "btn_calcular.place(x=35, y=180)\n",
    "\n",
    "btn_limpiar = tk.Button(ventana, text=\"Limpiar\", width=12, command=on_limpiar)\n",
    "btn_limpiar.place(x=145, y=180)\n",
    "\n",
    "lbl_promedio = tk.Label(ventana, text=\"Promedio =\")\n",
    "lbl_promedio.place(x=20, y=220)\n",
    "\n",
    "lbl_desviacion = tk.Label(ventana, text=\"Desviación estándar =\")\n",
    "lbl_desviacion.place(x=20, y=250)\n",
    "\n",
    "lbl_mayor = tk.Label(ventana, text=\"Valor mayor =\")\n",
    "lbl_mayor.place(x=20, y=280)\n",
    "\n",
    "lbl_menor = tk.Label(ventana, text=\"Valor menor =\")\n",
    "lbl_menor.place(x=20, y=310)\n",
    "\n",
    "ventana.mainloop()"
   ]
  },
  {
   "cell_type": "code",
   "execution_count": 6,
   "id": "e2e428d3",
   "metadata": {},
   "outputs": [
    {
     "data": {
      "text/plain": [
       "'c:\\\\Users\\\\briyi\\\\AppData\\\\Local\\\\Programs\\\\Microsoft VS Code'"
      ]
     },
     "execution_count": 6,
     "metadata": {},
     "output_type": "execute_result"
    }
   ],
   "source": [
    "pwd\n"
   ]
  }
 ],
 "metadata": {
  "kernelspec": {
   "display_name": "Python 3",
   "language": "python",
   "name": "python3"
  },
  "language_info": {
   "codemirror_mode": {
    "name": "ipython",
    "version": 3
   },
   "file_extension": ".py",
   "mimetype": "text/x-python",
   "name": "python",
   "nbconvert_exporter": "python",
   "pygments_lexer": "ipython3",
   "version": "3.13.6"
  }
 },
 "nbformat": 4,
 "nbformat_minor": 5
}
